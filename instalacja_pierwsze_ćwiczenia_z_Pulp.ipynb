{
  "nbformat": 4,
  "nbformat_minor": 0,
  "metadata": {
    "colab": {
      "name": "instalacja pierwsze ćwiczenia z Pulp",
      "provenance": [],
      "collapsed_sections": []
    },
    "kernelspec": {
      "name": "python3",
      "display_name": "Python 3"
    }
  },
  "cells": [
    {
      "cell_type": "markdown",
      "metadata": {
        "id": "u_DlKJ_cSEiT"
      },
      "source": [
        "# **Instalacja potrzebnych komponentów**\n"
      ]
    },
    {
      "cell_type": "code",
      "metadata": {
        "id": "BjX-mj9e8D5a"
      },
      "source": [
        "!pip install pulp\n",
        "\n",
        "!sudo apt-get install coinor-cbc glpk-utils coinor-clp\n"
      ],
      "execution_count": null,
      "outputs": []
    },
    {
      "cell_type": "code",
      "metadata": {
        "id": "HMGiufp89W-9"
      },
      "source": [
        "### kod sprawdza czy instalacja się udała\n",
        "import pulp\n",
        "\n",
        "print(pulp.__version__)"
      ],
      "execution_count": null,
      "outputs": []
    },
    {
      "cell_type": "code",
      "metadata": {
        "id": "05p9Frax-V2f"
      },
      "source": [
        "pulp.pulpTestAll()"
      ],
      "execution_count": null,
      "outputs": []
    },
    {
      "cell_type": "markdown",
      "metadata": {
        "id": "JHP3Y3Yh-stH"
      },
      "source": [
        "# Zadania:\n",
        "\n",
        "1. przeczytaj materiały dotyczące pulp ze strony internetowej https://coin-or.github.io/pulp/main/index.html oraz przejdź przez blending problem (przepisz do swojego notebooka)\n",
        "\n",
        "2. w blending problem dodaj zmienną decyzyjną. Stwórz zmienną która pojawi się w końcowym składzie produktu (tj. wartość zmiennej będzie miała niezerową postać)\n",
        "\n",
        "3. Dodaj ograniczenie co do zawartości witaminy B \n",
        "\n",
        "Zawartość:\n",
        "\n",
        "| Nazwa      | zawartość ug/100g |\n",
        "|------------|-------------------|\n",
        "| chicken    | 0.3               |\n",
        "| beef       | 2.6               |\n",
        "| mutton     | 2.6               |\n",
        "| rice       | 0                 |\n",
        "| wheat bran | 0                 |\n",
        "| gel        | 0                 |\n",
        "| sardines   | 8.9               |\n",
        "\n",
        "Kot ma zjeść minimum 0.24 ug na kilogram masy więc około\n",
        "0.8 ug dziennie\n",
        "\n",
        "4. Na końcu ma pojawiać się zdanie podsumowujące wynik, w stylu:\n",
        "Końcowy produkt będzie kosztować {}, będzie miał w składzie {nazwa}: {} %, {nastepna nazwa}: {} %\n",
        "\n",
        "Takie zdanie można skleić z części generowanych automatycznie:\n",
        "\n"
      ]
    },
    {
      "cell_type": "code",
      "metadata": {
        "id": "xmh5O2XBLo8n",
        "colab": {
          "base_uri": "https://localhost:8080/",
          "height": 52
        },
        "outputId": "0895bacc-4eb1-46a3-fd86-c381caf57bb8"
      },
      "source": [
        "from pulp import *\n",
        "prob = LpProblem(\"The_Whiskas_Problem\",LpMinimize)\n",
        "LpVariable(\"example\", None, 100)\n",
        "\n",
        "\n",
        "x1=LpVariable(\"Chicken\",0,None,LpInteger)\n",
        "x2=LpVariable(\"Beef\",0,None,LpInteger)\n",
        "x3=LpVariable(\"Mutton\",0,None,LpInteger)\n",
        "prob += 0.013*x1 + 0.008*x2 + 0.005*x3, \"Total Cost of Ingredients per can\"\n",
        "\n",
        "prob += x1 + x2 + x3 == 100, \"PercentagesSum\"\n",
        "prob += 0.100*x1 + 0.200*x2 + 0.150*x3 >= 8.0, \"ProteinRequirement\"\n",
        "prob += 0.080*x1 + 0.100*x2 + 0.200*x3 >= 6.0, \"FatRequirement\"\n",
        "prob += 0.001*x1 + 0.005*x2 + 0.002*x3 <= 2.0, \"FibreRequirement\"\n",
        "prob += 0.002*x1 + 0.005*x2 + 0.007*x3 <= 0.4, \"SaltRequirement\"\n",
        "prob += 0.3/1000000/100*x1 + 2.6/1000000/100*x2 + 4.47/1000000/100*x3 >= 0.8/1000000/100, \"B-12VitaminRequirement\"\n",
        "\n",
        "prob.writeLP(\"WhiskasModel.lp\")\n",
        "prob.solve()\n",
        "\n",
        "print(\"Status:\", LpStatus[prob.status])\n",
        "#!cat \"WhiskasModel.lp\"\n",
        "\n",
        "ingredientslist=\"\"\n",
        "for v in prob.variables():\n",
        "    ingredientslist+=\"{} w ilosci {}% i \".format(v.name,v.varValue)\n",
        "ingredientslist=ingredientslist.replace(\" i \",\", \",(ingredientslist.count(' i ')-2))\n",
        "ingredientslist=ingredientslist[:-2]\n",
        "\n",
        "print(\"Końcowy produkt będzie kosztować {} za puszkę, będzie miał w składzie: {}\".format(value(prob.objective),ingredientslist))"
      ],
      "execution_count": null,
      "outputs": [
        {
          "output_type": "stream",
          "text": [
            "Status: Optimal\n",
            "Końcowy produkt będzie kosztować 0.967 za puszkę, będzie miał w składzie: Beef w ilosci 65.0%, Chicken w ilosci 34.0% i Mutton w ilosci 1.0% \n"
          ],
          "name": "stdout"
        }
      ]
    },
    {
      "cell_type": "code",
      "metadata": {
        "id": "BhWf9b8IMJZ7",
        "colab": {
          "base_uri": "https://localhost:8080/",
          "height": 53
        },
        "outputId": "c4e437d7-32da-4e82-b320-cbbfe1a50941"
      },
      "source": [
        "sklejone_produkt_cena = [\":\".join((produkt, str(cena))) for produkt,cena in zip([\"jabłko\",\"banan\"],[5,10])]\n",
        "print(sklejone_produkt_cena)\n",
        "sklejona_calosc = \", \".join(sklejone_produkt_cena)\n",
        "\n",
        "print(sklejona_calosc)"
      ],
      "execution_count": null,
      "outputs": [
        {
          "output_type": "stream",
          "text": [
            "['jabłko:5', 'banan:10']\n",
            "jabłko:5, banan:10\n"
          ],
          "name": "stdout"
        }
      ]
    },
    {
      "cell_type": "code",
      "metadata": {
        "id": "Se_t7o8bTLdW"
      },
      "source": [
        ""
      ],
      "execution_count": null,
      "outputs": []
    }
  ]
}