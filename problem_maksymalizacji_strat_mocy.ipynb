{
  "nbformat": 4,
  "nbformat_minor": 0,
  "metadata": {
    "colab": {
      "name": "problem_maksymalizacji_start_mocy.ipynb",
      "provenance": [],
      "collapsed_sections": []
    },
    "kernelspec": {
      "name": "python3",
      "display_name": "Python 3"
    }
  },
  "cells": [
    {
      "cell_type": "code",
      "metadata": {
        "id": "BjX-mj9e8D5a"
      },
      "source": [
        "!pip install pulp\n",
        "\n",
        "!sudo apt-get install coinor-cbc glpk-utils coinor-clp\n"
      ],
      "execution_count": null,
      "outputs": []
    },
    {
      "cell_type": "code",
      "metadata": {
        "id": "V4nHtR9YkeWs",
        "outputId": "b4b37df4-c564-46ef-9861-598fee414184",
        "colab": {
          "base_uri": "https://localhost:8080/"
        }
      },
      "source": [
        "from pulp import *\n",
        "from __future__ import print_function\n",
        "from ipywidgets import interact, interactive, fixed, interact_manual, Layout, FloatSlider, IntSlider\n",
        "import ipywidgets as widgets\n",
        "import pandas as pd\n",
        "\n",
        "prob = LpProblem(\"Max_prad\",LpMaximize)\n",
        "\n",
        "i1 = LpVariable(\"Prad_1\",0)\n",
        "i2 = LpVariable(\"Prad_2\",0)\n",
        "i3 = LpVariable(\"Prad_3\",0)\n",
        "i4 = LpVariable(\"Prad_4\",0)\n",
        "i5 = LpVariable(\"Prad_5\",0)\n",
        "\n",
        "prob += i1 + i2 == i3, \"Max prąd1\"\n",
        "prob += i3 == i4 + i5, \"Max prąd2\"\n",
        "\n",
        "prob += i1*8 == i2*6\n",
        "prob += i5*8 == i4*10\n",
        "\n",
        "prob += 2 >= i1, \"Prad_1_max\"\n",
        "prob += 3 >= i2, \"Prad_2_max\"\n",
        "prob += 4 >= i3, \"Prad_3_max\"\n",
        "prob += 2 >= i4, \"Prad_4_max\"\n",
        "prob += 2 >= i5, \"Prad_5_max\"\n",
        "prob += i3\n",
        "\n",
        "prob.writeLP(\"MostekModel.lp\")\n",
        "prob.solve()\n",
        "\n",
        "print (\"Status:\", LpStatus[prob.status])\n",
        "\n",
        "print(\"Max prąd = \",value(prob.objective) ,\"A\")\n",
        "for v in prob.variables():\n",
        "    print (v.name, \"=\", v.varValue)\n"
      ],
      "execution_count": 12,
      "outputs": [
        {
          "output_type": "stream",
          "text": [
            "Status: Optimal\n",
            "Max prąd =  3.6 A\n",
            "Prad_1 = 1.5428571\n",
            "Prad_2 = 2.0571429\n",
            "Prad_3 = 3.6\n",
            "Prad_4 = 1.6\n",
            "Prad_5 = 2.0\n"
          ],
          "name": "stdout"
        }
      ]
    },
    {
      "cell_type": "code",
      "metadata": {
        "id": "Xi3InaO4Fc0B"
      },
      "source": [
        ""
      ],
      "execution_count": null,
      "outputs": []
    }
  ]
}
